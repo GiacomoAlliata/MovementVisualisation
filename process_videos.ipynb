{
 "cells": [
  {
   "cell_type": "code",
   "execution_count": null,
   "metadata": {},
   "outputs": [],
   "source": [
    "import os\n",
    "import numpy as np\n",
    "import pandas as pd\n",
    "import matplotlib.pyplot as plt\n",
    "import cv2\n",
    "import time"
   ]
  },
  {
   "cell_type": "code",
   "execution_count": null,
   "metadata": {},
   "outputs": [],
   "source": [
    "# Libs\n",
    "import torch\n",
    "from rembg import remove, new_session\n",
    "from ultralytics import YOLO\n",
    "import mediapipe as mp\n",
    "from mediapipe.framework.formats import landmark_pb2\n",
    "\n",
    "from process.get_features import compute_depth, compute_pose_and_mask, save_keypoints, joints, compute_mask\n",
    "from process.process_video import inpaint_video, process_video_frames"
   ]
  },
  {
   "cell_type": "code",
   "execution_count": null,
   "metadata": {},
   "outputs": [],
   "source": [
    "RESULTS_FOLDER = \"results/\"\n",
    "INPAINTING_FOLDER = RESULTS_FOLDER + \"inpainting/\"\n",
    "KEYPOINTS_FOLDER = RESULTS_FOLDER + \"keypoints/\"\n",
    "FRAMES_FOLDER = RESULTS_FOLDER + \"frames_results/\"\n",
    "\n",
    "if not os.path.exists(RESULTS_FOLDER):\n",
    "    os.makedirs(RESULTS_FOLDER)\n",
    "if not os.path.exists(INPAINTING_FOLDER):\n",
    "    os.makedirs(INPAINTING_FOLDER)\n",
    "if not os.path.exists(KEYPOINTS_FOLDER):\n",
    "    os.makedirs(KEYPOINTS_FOLDER)\n",
    "if not os.path.exists(FRAMES_FOLDER):\n",
    "    os.makedirs(FRAMES_FOLDER)"
   ]
  },
  {
   "cell_type": "code",
   "execution_count": null,
   "metadata": {},
   "outputs": [],
   "source": [
    "VIDEO_FOLDER = \"data/videos/\"\n",
    "videos = os.listdir(VIDEO_FOLDER)\n",
    "print(len(videos))"
   ]
  },
  {
   "cell_type": "markdown",
   "metadata": {},
   "source": [
    "# Inpainting"
   ]
  },
  {
   "cell_type": "code",
   "execution_count": null,
   "metadata": {},
   "outputs": [],
   "source": [
    "for video in videos:\n",
    "    print(\"Processing video: \", video)\n",
    "    output_video_path = INPAINTING_FOLDER + video.replace(\".mp4\", \"_inpainted.mp4\")\n",
    "    if os.path.exists(output_video_path):\n",
    "        print(\"Video already processed\")\n",
    "        continue\n",
    "    keypoints = inpaint_video(video_path = VIDEO_FOLDER + video, \n",
    "                              output_fp = output_video_path,\n",
    "                              MAX_COUNT = None)\n",
    "\n",
    "    output_keypoints_path = KEYPOINTS_FOLDER + video.replace(\".mp4\", \"_keypoints.csv\")\n",
    "    save_keypoints(keypoints, output_keypoints_path)"
   ]
  },
  {
   "cell_type": "markdown",
   "metadata": {},
   "source": [
    "# Get mask and depth frames"
   ]
  },
  {
   "cell_type": "code",
   "execution_count": null,
   "metadata": {},
   "outputs": [],
   "source": [
    "for video in videos:\n",
    "    print(\"Processing video: \", video)\n",
    "    process_video_frames(VIDEO_FOLDER + video, FRAMES_FOLDER, show_output = False)"
   ]
  },
  {
   "cell_type": "markdown",
   "metadata": {},
   "source": [
    "# Create particles video"
   ]
  },
  {
   "cell_type": "code",
   "execution_count": null,
   "metadata": {},
   "outputs": [],
   "source": [
    "FRAMES_FOLDER = \"data/particle_frames/\"\n",
    "frames_folders = os.listdir(FRAMES_FOLDER)"
   ]
  },
  {
   "cell_type": "code",
   "execution_count": null,
   "metadata": {},
   "outputs": [],
   "source": [
    "for filename in frames_folders:\n",
    "    output = RESULTS_FOLDER + \"particles_videos/\" + filename + \".mp4\"\n",
    "    if os.path.exists(output):\n",
    "        print(f\"Video {filename} already processed\")\n",
    "        continue\n",
    "    os.chdir(FRAMES_FOLDER + filename)\n",
    "    command = 'ffmpeg -i LS_Niagara.%04d.jpeg -c:v libx264 -vf \"scale=1920:1080\" ' + output\n",
    "    print(command)\n",
    "    print(os.system(command))"
   ]
  }
 ],
 "metadata": {
  "kernelspec": {
   "display_name": "mov_viz",
   "language": "python",
   "name": "python3"
  },
  "language_info": {
   "codemirror_mode": {
    "name": "ipython",
    "version": 3
   },
   "file_extension": ".py",
   "mimetype": "text/x-python",
   "name": "python",
   "nbconvert_exporter": "python",
   "pygments_lexer": "ipython3",
   "version": "3.11.6"
  }
 },
 "nbformat": 4,
 "nbformat_minor": 2
}
